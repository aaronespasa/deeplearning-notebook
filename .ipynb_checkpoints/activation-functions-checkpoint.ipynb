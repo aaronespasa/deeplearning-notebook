{
 "cells": [
  {
   "cell_type": "markdown",
   "id": "e2d398e5-172c-4c7a-acc8-ee49617b1da2",
   "metadata": {},
   "source": [
    "<h1 style=\"text-align:center;\">Funciones de activación</h1>\n",
    "\n",
    "![Neurona con una función de activación](https://miro.medium.com/max/1400/0*1QFveOPhuMjZPHTs.png)"
   ]
  },
  {
   "cell_type": "markdown",
   "id": "4b47a640-c9d6-46da-a462-9196e1cc1e66",
   "metadata": {},
   "source": [
    "Una función de activación en una red neuronal define como se transformará la suma poderada de los inputs en un output para cada nodo en la cap de una red.\n",
    "\n",
    "> Si queremos conseguir un hypothesis space que beneficie a nuestras representaciones de deep learning, necesitamos añadir una non-linearity, o función de activación.\n",
    "\n",
    "[Activation functions](https://machinelearningmastery.com/choose-an-activation-function-for-deep-learning/#:~:text=Activation%20functions%20are%20a%20critical,design%20of%20a%20neural%20network.&text=Activation%20functions%20are%20a%20key,the%20type%20of%20prediction%20problem.)"
   ]
  },
  {
   "cell_type": "markdown",
   "id": "b0dc6c6e-b7a4-4416-954d-a220ef77ee36",
   "metadata": {},
   "source": [
    "Una red formada solamente por neuronas lineales (sin funciones de activación) es muy facil de entrenar, pero no puede aprender de funciones más complejas ya que el output de la red es siempre una función lineal."
   ]
  },
  {
   "cell_type": "markdown",
   "id": "3fc6fd9c-62cd-41c6-825d-dc37ee7c8976",
   "metadata": {},
   "source": [
    "Por lo tanto, las funciones de activación no-lineares son preferibles ya que nos permiten que el output de la red sea más complejo que solamente una función lineal."
   ]
  },
  {
   "cell_type": "markdown",
   "id": "2c0e8c15-15c9-47d8-9906-6cc098b1d146",
   "metadata": {},
   "source": [
    "Tradicionalmente se utilizaron dos funciones de activación no lineares: la sigmoid y la hyperbolic tangent."
   ]
  },
  {
   "cell_type": "code",
   "execution_count": 2,
   "id": "d6d073cc-0204-4d8c-93a3-7ee5c037db40",
   "metadata": {},
   "outputs": [],
   "source": [
    "import numpy as np\n",
    "import matplotlib.pyplot as plt"
   ]
  },
  {
   "cell_type": "markdown",
   "id": "263a4bd5-05b3-4eef-93b9-fbca7bec2934",
   "metadata": {},
   "source": [
    "# Sigmoid (Logistic function)"
   ]
  },
  {
   "cell_type": "markdown",
   "id": "7f09c5a6-0f35-4f0e-ab6d-53ca82a73274",
   "metadata": {},
   "source": [
    "$sigm(x) = \\frac{1}{1 + e^{-x}}$"
   ]
  },
  {
   "cell_type": "code",
   "execution_count": 3,
   "id": "2ff46f3e-6a12-40b4-ac96-a8d0b15b6ece",
   "metadata": {},
   "outputs": [
    {
     "data": {
      "image/png": "[encoded data removed]",
      "text/plain": [
       "<Figure size 432x288 with 1 Axes>"
      ]
     },
     "metadata": {
      "needs_background": "light"
     },
     "output_type": "display_data"
    }
   ],
   "source": [
    "x = np.linspace(-5, 5, 100)\n",
    "y = 1/(1 + np.exp(-x))\n",
    "\n",
    "plt.plot(x, y)\n",
    "plt.show()"
   ]
  },
  {
   "cell_type": "markdown",
   "id": "04899204-a2d9-4205-a581-55a202e70362",
   "metadata": {},
   "source": [
    "# Hyperbolic tangent (tanh)"
   ]
  },
  {
   "cell_type": "markdown",
   "id": "b7195314-8952-4ffd-8596-a18abc8e6fc0",
   "metadata": {},
   "source": [
    "$tanh(x) = \\frac{e^x - e^{-x}}{e^x + e^{-x}}$"
   ]
  },
  {
   "cell_type": "code",
   "execution_count": 4,
   "id": "e8acc462-e6dc-4ffe-93f7-5ff7c2575aaa",
   "metadata": {},
   "outputs": [
    {
     "data": {
      "image/png": "[encoded data removed]",
      "text/plain": [
       "<Figure size 432x288 with 1 Axes>"
      ]
     },
     "metadata": {
      "needs_background": "light"
     },
     "output_type": "display_data"
    }
   ],
   "source": [
    "x = np.linspace(-5, 5, 100)\n",
    "y = (np.exp(x) - np.exp(-x)) / (np.exp(x) + np.exp(-x))\n",
    "\n",
    "plt.plot(x, y)\n",
    "plt.show()"
   ]
  },
  {
   "cell_type": "markdown",
   "id": "b23128ba-d3ec-4c1b-b63d-643c23713cb5",
   "metadata": {},
   "source": [
    "La función de activación `tanh` suele dar mejores resultados que la sigmoide."
   ]
  },
  {
   "cell_type": "markdown",
   "id": "1bf0df59-da24-46f7-a65e-e63268574d23",
   "metadata": {},
   "source": [
    "# Problema con la sigmoide y tanh"
   ]
  },
  {
   "cell_type": "markdown",
   "id": "fbd5b584-75cc-4635-be6b-d84e445a1ff4",
   "metadata": {},
   "source": [
    "Un problema con estas dos funciones de activación es **se saturan**. Es decir, en el mejor de los casos (la función tanh), los valores más grandes se ajustan a 1 y los valores más pequeños se ajustan a 0. Esto hace que se reduzcan todos los valores de los inputs a -1 a 1."
   ]
  },
  {
   "cell_type": "markdown",
   "id": "fb5e7074-26d9-419e-835c-43f402122e42",
   "metadata": {},
   "source": [
    "Para aquellas redes que tienen solo unas pocas capas con activaciones, este no supone un problema.\n",
    "\n",
    "Sin embargo, a medida que vamos añadiendo capas, esto hace que el gradiente sea demasiado pequeño como para entrenar a la red de forma efectiva.\n",
    "\n",
    "Esto se debe a que un gradiente muy pequeño hará que las ponderaciones y los biases de las capaas iniciales no se actualizarán correctamente en cada sesión de entrenamiento."
   ]
  },
  {
   "cell_type": "markdown",
   "id": "11a37164-b859-4861-86bb-9c0e31aaa2cb",
   "metadata": {},
   "source": [
    "# Solución"
   ]
  },
  {
   "cell_type": "markdown",
   "id": "1f293251-c314-4938-a12a-ebdb904d9cf9",
   "metadata": {},
   "source": [
    "La solución más sencilla es utilizar otras funciones de activación como ReLU que evitan dar lugar a derivadas muy pequeñas.\n",
    "\n",
    "Otras 2 soluciones son:\n",
    "- Residual networks\n",
    "- Batch normalization layers"
   ]
  },
  {
   "cell_type": "markdown",
   "id": "c8c39dda-dddc-47c4-926c-3523907631b4",
   "metadata": {},
   "source": [
    "# ReLU"
   ]
  },
  {
   "cell_type": "markdown",
   "id": "7a39073d-7567-448a-be61-d5aedd578cd1",
   "metadata": {},
   "source": [
    "$$f(x) = max(0.0, x)$$"
   ]
  },
  {
   "cell_type": "code",
   "execution_count": 10,
   "id": "48d92c70-9b84-4aac-8002-876a6687b384",
   "metadata": {},
   "outputs": [
    {
     "data": {
      "image/png": "[encoded data removed]",
      "text/plain": [
       "<Figure size 432x288 with 1 Axes>"
      ]
     },
     "metadata": {
      "needs_background": "light"
     },
     "output_type": "display_data"
    }
   ],
   "source": [
    "x = np.linspace(-5, 5, 100)\n",
    "y = np.maximum(0.0, x)\n",
    "\n",
    "plt.plot(x, y)\n",
    "plt.show()"
   ]
  },
  {
   "cell_type": "markdown",
   "id": "1cc166d2-1de8-401d-afd2-b557b0732397",
   "metadata": {},
   "source": [
    "# Swish"
   ]
  },
  {
   "cell_type": "markdown",
   "id": "d90bd84f-a12d-498c-9ecd-903f1df7dc16",
   "metadata": {},
   "source": [
    "Función de activación desarrollada en Google que tiene los mismos o mejores resultados que ReLU en deep networks. Fue creada para aplacar dominios más complicados del deep learning como el image classification, machine translation, etc. y es utilizado para trabajar con muchas capas (>= 40)."
   ]
  },
  {
   "cell_type": "markdown",
   "id": "84bdb614-1e5b-4a23-9bd1-5507d32a2554",
   "metadata": {},
   "source": [
    "$$swish(x) = x * sigm(x) = \\frac{x}{1 + e^{-x}}$$"
   ]
  },
  {
   "cell_type": "code",
   "execution_count": 11,
   "id": "fc12349a-f59f-49fe-b364-262e951422e5",
   "metadata": {},
   "outputs": [
    {
     "data": {
      "image/png": "[encoded data removed]",
      "text/plain": [
       "<Figure size 432x288 with 1 Axes>"
      ]
     },
     "metadata": {
      "needs_background": "light"
     },
     "output_type": "display_data"
    }
   ],
   "source": [
    "x = np.linspace(-5, 5, 100)\n",
    "y = x / (1 + np.exp(-x))\n",
    "\n",
    "plt.plot(x, y)\n",
    "plt.show()"
   ]
  },
  {
   "cell_type": "markdown",
   "id": "83697ed0-b245-4fbf-b916-e0edc4824ea2",
   "metadata": {},
   "source": [
    "- Los valores negativos también pueden tener valor para capturar patrones en los datos, así que Swish les da cierto valor. Sin embargo, valores negativo muy grandes son considerados 0.\n",
    "\n",
    "- Swish es una función más \"suave\" que evita ese cambio abruto que realiza ReLU en el cero.\n",
    "\n",
    "- Swish no es monótona y esto hace que se mejore el aprendizaje en los datos y ponderaciones a aprender."
   ]
  },
  {
   "cell_type": "markdown",
   "id": "a3c7ae3f-54c4-47e5-b115-bb68b921404d",
   "metadata": {},
   "source": [
    "# Funciones de activación para la output layer"
   ]
  },
  {
   "cell_type": "markdown",
   "id": "97cb9e9a-915a-4072-8c31-aec4974e60c1",
   "metadata": {},
   "source": [
    "La output layer es la capa de la red que directamente devuelve la predicción.\n",
    "\n",
    "Principalmente, existen 3 funciones de activación que se utilizan:\n",
    "- Linear\n",
    "- Logistic (sigmoid)\n",
    "- Softmax"
   ]
  },
  {
   "cell_type": "markdown",
   "id": "f8a0b0a4-8152-4bda-928c-17611775ad55",
   "metadata": {},
   "source": [
    "# Linear (\"no activation\")"
   ]
  },
  {
   "cell_type": "markdown",
   "id": "d9eb2130-da14-4667-bf43-f409811d189e",
   "metadata": {},
   "source": [
    "Devuelve el valor directamente de la suma ponderada de valores, sin utilizar una función de activación."
   ]
  },
  {
   "cell_type": "code",
   "execution_count": 7,
   "id": "b00ac441-9f7c-46c2-ac2b-13111250e91e",
   "metadata": {},
   "outputs": [
    {
     "data": {
      "image/png": "[encoded data removed]",
      "text/plain": [
       "<Figure size 432x288 with 1 Axes>"
      ]
     },
     "metadata": {
      "needs_background": "light"
     },
     "output_type": "display_data"
    }
   ],
   "source": [
    "x = np.linspace(-5, 5, 100)\n",
    "y = x\n",
    "\n",
    "plt.plot(x, y)\n",
    "plt.show()"
   ]
  },
  {
   "cell_type": "markdown",
   "id": "b4ffbd58-7610-46a5-beee-ee0569b3cfb9",
   "metadata": {},
   "source": [
    "# Sigmoid (logistic)"
   ]
  },
  {
   "cell_type": "markdown",
   "id": "516fd60f-93c0-4390-abb2-03e82ed0345e",
   "metadata": {},
   "source": [
    "Igual que la tratada anteriormente"
   ]
  },
  {
   "cell_type": "markdown",
   "id": "5b5c4d65-fc8e-4246-9b47-cfa9513c996f",
   "metadata": {},
   "source": [
    "# Softmax"
   ]
  },
  {
   "cell_type": "markdown",
   "id": "ddc4f17f-6b9c-438e-a0d5-5e08b271bc83",
   "metadata": {},
   "source": [
    "Devuelve un vector de valores que suman 1.\n",
    "\n",
    "$$softmax(x) = \\frac{exp(x_i)}{\\sum{exp(x_i)}}$$"
   ]
  },
  {
   "cell_type": "markdown",
   "id": "85c25701-6b95-4a78-bba5-95c7e4a260cf",
   "metadata": {},
   "source": [
    "Softmax es utilizada cuando estamos haciendo una tarea de **clasificación de varias clases**. En cambio, la función sigmoide la utilizaríamos cuando tenemos una clasificación binaria."
   ]
  },
  {
   "cell_type": "code",
   "execution_count": 8,
   "id": "71bd3db3-1d67-424c-acca-4c7f218274e8",
   "metadata": {},
   "outputs": [
    {
     "data": {
      "image/png": "[encoded data removed]",
      "text/plain": [
       "<Figure size 432x288 with 1 Axes>"
      ]
     },
     "metadata": {
      "needs_background": "light"
     },
     "output_type": "display_data"
    }
   ],
   "source": [
    "x = np.linspace(-5, 5, 100)\n",
    "y = np.exp(x) / np.sum(np.exp(x))\n",
    "\n",
    "plt.plot(x, y)\n",
    "plt.show()"
   ]
  },
  {
   "cell_type": "markdown",
   "id": "0dad478d-1fc1-4888-b353-99574a1d8493",
   "metadata": {},
   "source": [
    " \n",
    " "
   ]
  },
  {
   "cell_type": "markdown",
   "id": "d275c623-bb50-46af-a3ce-5dc173ce6d5b",
   "metadata": {},
   "source": [
    "![Como escoger una función de activación en la output layer](https://machinelearningmastery.com/wp-content/uploads/2020/12/How-to-Choose-an-Output-Layer-Activation-Function.png)"
   ]
  },
  {
   "cell_type": "markdown",
   "id": "c8a2dc90-b521-4d47-a7da-d60649ee0e15",
   "metadata": {},
   "source": [
    "# ¿Qué función de activación elegimos?"
   ]
  },
  {
   "cell_type": "markdown",
   "id": "388fbb33-05f5-4487-b729-c84b2896d8c9",
   "metadata": {},
   "source": [
    "Una práctica que se suele seguir, es empezar utilizando la función de activación ReLU y después utilizar otras funciones de activación si ReLU no nos da los mejores resultados."
   ]
  },
  {
   "cell_type": "markdown",
   "id": "34fe2541-4753-4771-b51c-21bc6551d4f0",
   "metadata": {},
   "source": [
    "1. ReLU debería utilizarse solamente en las hidden layers.\n",
    "2. Sigmoid/Logistic y TanH no se debería utilizar en las hidden layers por el problema de los vanishing gradients.\n",
    "3. Si la red neuronal tiene más de 40 layers, podemos utilizar la Swish function."
   ]
  },
  {
   "cell_type": "markdown",
   "id": "14d0efc9-593b-4256-acd2-0d71f6a802fb",
   "metadata": {},
   "source": [
    "# Otras funciones de activación"
   ]
  },
  {
   "cell_type": "markdown",
   "id": "6f85e31c-c317-4677-8908-e466f3c602a7",
   "metadata": {},
   "source": [
    "# Leaky ReLU"
   ]
  },
  {
   "cell_type": "markdown",
   "id": "ac49be3d-78e4-496b-872c-758800e58719",
   "metadata": {},
   "source": [
    "El problema de ReLU es que hace que todos los valores negativos sean 0. Esto provoca que, durante el proceso de backpropagation, las ponderaciones y biases de algunas neuronas no se actualicen.\n",
    "\n",
    "Esto provoca que se creen neuronas 'muertas' que nunca se activan. A esto se le denomina el **dying ReLU problem**."
   ]
  },
  {
   "cell_type": "markdown",
   "id": "335d5e70-c7f3-4521-8541-3a0e440e42dc",
   "metadata": {},
   "source": [
    "LeakyReLU es una versión mejorada de ReLU que tiene una pendiente positiva en la parte de los números negativos:\n",
    "\n",
    "$$f(x) = max(0.1x, x)$$"
   ]
  },
  {
   "cell_type": "code",
   "execution_count": 12,
   "id": "890384ce-1d7e-438e-a348-5e2a6d865182",
   "metadata": {},
   "outputs": [
    {
     "data": {
      "image/png": "[encoded data removed]",
      "text/plain": [
       "<Figure size 432x288 with 1 Axes>"
      ]
     },
     "metadata": {
      "needs_background": "light"
     },
     "output_type": "display_data"
    }
   ],
   "source": [
    "x = np.linspace(-5, 5, 100)\n",
    "y = np.maximum(0.1*x, x)\n",
    "\n",
    "plt.plot(x, y)\n",
    "plt.show()"
   ]
  },
  {
   "cell_type": "markdown",
   "id": "c385c4eb-fe9e-46eb-94ab-3a7a476ef5ac",
   "metadata": {},
   "source": [
    "Sin embargo:\n",
    "\n",
    "- Las predicciones pueden no ser consistentes para valores de input negativos.\n",
    "\n",
    "- El gradiente para valores negativos es un valor pequeño que hace que el aprender de los parámetros del modelo lleve más tiempo."
   ]
  },
  {
   "cell_type": "markdown",
   "id": "33796259-7dd8-4034-abd8-3a3e07be3533",
   "metadata": {},
   "source": [
    "# Parametric ReLU"
   ]
  },
  {
   "cell_type": "markdown",
   "id": "aef7ab02-66a5-4f15-a45a-eec0950c4dd7",
   "metadata": {},
   "source": [
    "Es orta variante de ReLU que trata de resolver el dying ReLU problem.\n",
    "\n",
    "$$f(x) = max(ax, x)$$, a es la pendiente de los parámetros para los valores negativos."
   ]
  },
  {
   "cell_type": "markdown",
   "id": "f2b24040-f857-4136-b422-7ab93f0b22bb",
   "metadata": {},
   "source": [
    "Esta función de activación se utiliza cuando la Leaky ReLU no resuelve el problema con las neuronas que no se activan.\n",
    "\n",
    "La limitación de esta es que puede funcionar diferente según el parámetro de la pendiente `a`."
   ]
  },
  {
   "cell_type": "markdown",
   "id": "a7c99cab-ee05-420e-8627-9ca319749ad2",
   "metadata": {},
   "source": [
    "# Exponential Linear Units (ELUs) Function"
   ]
  },
  {
   "cell_type": "code",
   "execution_count": null,
   "id": "529956d2-13fc-4941-bbd4-f6142ed55343",
   "metadata": {},
   "outputs": [],
   "source": []
  },
  {
   "cell_type": "markdown",
   "id": "6fb0ddba-3cfa-4119-8196-a0ac4d75eec4",
   "metadata": {},
   "source": [
    "# Gaussian Error Linear Unit (GELU)"
   ]
  },
  {
   "cell_type": "markdown",
   "id": "f5dbe435-5ce6-4b61-8518-bfc43711724f",
   "metadata": {},
   "source": []
  },
  {
   "cell_type": "code",
   "execution_count": null,
   "id": "48fee470-d508-44a7-a8ef-b7fdb6784bdf",
   "metadata": {},
   "outputs": [],
   "source": []
  },
  {
   "cell_type": "markdown",
   "id": "e7b05464-2143-4f08-a97a-f9255612a1fe",
   "metadata": {},
   "source": [
    "![ELU, RELU, GELU](https://assets.website-files.com/5d7b77b063a9066d83e1209c/60d24ce0ff3fd3ff13b04ef7_pasted%20image%200%20(17).jpg)"
   ]
  },
  {
   "cell_type": "markdown",
   "id": "c342950c-5c7f-415e-b524-b94fd20374ba",
   "metadata": {},
   "source": [
    "# Scaled Exponential Linear Unit (SELU)"
   ]
  },
  {
   "cell_type": "markdown",
   "id": "32aee5d6-677e-4dd7-ab6f-db632b8d4566",
   "metadata": {},
   "source": []
  },
  {
   "cell_type": "code",
   "execution_count": null,
   "id": "0eec9346-65b1-46d2-aa64-db593afd5bbe",
   "metadata": {},
   "outputs": [],
   "source": []
  },
  {
   "cell_type": "markdown",
   "id": "170888f2-c2b9-48ac-be0f-383724ff43c2",
   "metadata": {},
   "source": [
    "[Otras funciones de activación](https://cup-of-char.com/writing-activation-functions-from-mostly-scratch-in-python/)"
   ]
  }
 ],
 "metadata": {
  "kernelspec": {
   "display_name": "Python 3",
   "language": "python",
   "name": "python3"
  },
  "language_info": {
   "codemirror_mode": {
    "name": "ipython",
    "version": 3
   },
   "file_extension": ".py",
   "mimetype": "text/x-python",
   "name": "python",
   "nbconvert_exporter": "python",
   "pygments_lexer": "ipython3",
   "version": "3.8.6"
  }
 },
 "nbformat": 4,
 "nbformat_minor": 5
}
